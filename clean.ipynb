{
 "cells": [
  {
   "cell_type": "code",
   "execution_count": 44,
   "metadata": {},
   "outputs": [],
   "source": [
    "import pandas as pd\n",
    "import re\n",
    "import string\n",
    "import json\n",
    "from Sastrawi.Stemmer.StemmerFactory import StemmerFactory"
   ]
  },
  {
   "cell_type": "code",
   "execution_count": 18,
   "metadata": {},
   "outputs": [],
   "source": [
    "def clean_html(text):\n",
    "    # Fungsi Menghapuss HTML & url\n",
    "    # Menghapus entitas html (seperti &amp;) jika ada\n",
    "    text = re.sub(r'\\&\\w*;', '', text)\n",
    "\n",
    "    # Menghapus URL\n",
    "    text = re.sub(r'(https|http)?:\\/\\/(\\w|\\.|\\/|\\?|\\=|\\&|\\%|\\-)*\\b', '', text)\n",
    "\n",
    "    return text\n",
    "\n",
    "def remove_puncts(text):\n",
    "    # Fungsi Menghapus tanda baca\n",
    "    puncts = string.punctuation\n",
    "\n",
    "    # Menghapus tanda baca\n",
    "    text = re.sub('[' + puncts + ']+', ' ', text)\n",
    "    text = re.sub(r'[^\\w\\s]', ' ', text)  # removing repeating punctuations\n",
    "\n",
    "    return text"
   ]
  },
  {
   "cell_type": "code",
   "execution_count": 37,
   "metadata": {},
   "outputs": [],
   "source": [
    "def clean_text(text):\n",
    "    # Fungsi manipulasi teks / memberssihkan teks\n",
    "\n",
    "\n",
    "    # Menghapus spasi di awal kalimat\n",
    "    text = text.lstrip(' ')\n",
    "\n",
    "    # Menghapus whitespace\n",
    "    text = re.sub(r'\\s\\s+', ' ', text)\n",
    "\n",
    "    # menghapus RT @username \n",
    "    text = re.sub(r'@\\S*', '', text)\n",
    "    text = re.sub(r'RT', '', text)\n",
    "\n",
    "    # menghapus unicode\n",
    "    text = re.sub(r'[^\\x00-\\x7F]+', '', text)\n",
    "\n",
    "\n",
    "    text = text.lower()\n",
    "    # Menghapus kata yang terdiri dari <2 huruf\n",
    "    # text = re.sub(r'\\b\\w{1,2}\\b', '', text)\n",
    "\n",
    "    return text"
   ]
  },
  {
   "cell_type": "code",
   "execution_count": 38,
   "metadata": {},
   "outputs": [],
   "source": [
    "data = pd.read_csv('dataset_penyisihan_bdc_2024.csv', sep=';')"
   ]
  },
  {
   "cell_type": "code",
   "execution_count": 39,
   "metadata": {},
   "outputs": [],
   "source": [
    "# clean\n",
    "data['cleaned_text'] = data['text'].apply(clean_text)\n",
    "data['cleaned_text'] = data['cleaned_text'].apply(clean_html)\n",
    "data['cleaned_text'] = data['cleaned_text'].apply(remove_puncts)"
   ]
  },
  {
   "cell_type": "code",
   "execution_count": 72,
   "metadata": {},
   "outputs": [],
   "source": [
    "with open('preprocess/stopwords.txt', 'r') as f:\n",
    "    stopwords = f.read().splitlines()\n",
    "\n",
    "with open('preprocess/stopwords.txt', 'r') as f:\n",
    "    slang_text = f.read()\n",
    "  \n",
    "slang_list = slang_text.splitlines()\n",
    "\n",
    "factory = StemmerFactory()\n",
    "stemmer = factory.create_stemmer()\n",
    "\n",
    "# Cleaning stopwords dari teks\n",
    "def clean_stopwords(text):\n",
    "  words = text.split()\n",
    "  texts = [word for word in words if word not in stopwords]\n",
    "  return texts\n",
    "\n",
    "# Mengubah slangwords ke kata baku\n",
    "def clean_slangwords(text):\n",
    "  texts = [slang_list[slang_list.index(word)+1] if word in slang_list else word for word in text]\n",
    "  return texts\n",
    "\n",
    "# Stemming kata ke bentuk kata dasar\n",
    "def stem(text):\n",
    "  stemmed_text = [stemmer.stem(word) for word in text]\n",
    "  return stemmed_text"
   ]
  },
  {
   "cell_type": "code",
   "execution_count": 73,
   "metadata": {},
   "outputs": [],
   "source": [
    "data['tokenized_text'] = data['cleaned_text']\n",
    "data['tokenized_text'] = data['tokenized_text'].apply(clean_stopwords)\n",
    "data['tokenized_text'] = clean_slangwords(data['tokenized_text'])\n",
    "data['tokenized_text'] = data['tokenized_text'].apply(stem)"
   ]
  },
  {
   "cell_type": "code",
   "execution_count": null,
   "metadata": {},
   "outputs": [],
   "source": []
  },
  {
   "cell_type": "code",
   "execution_count": 74,
   "metadata": {},
   "outputs": [],
   "source": [
    "# save to csv\n",
    "!del cleaned_dataset_penyisihan_bdc_2024.csv\n",
    "data.to_csv('cleaned_dataset_penyisihan_bdc_2024.csv', sep=';', index=False)"
   ]
  },
  {
   "cell_type": "code",
   "execution_count": null,
   "metadata": {},
   "outputs": [],
   "source": []
  }
 ],
 "metadata": {
  "kernelspec": {
   "display_name": "Python 3",
   "language": "python",
   "name": "python3"
  },
  "language_info": {
   "codemirror_mode": {
    "name": "ipython",
    "version": 3
   },
   "file_extension": ".py",
   "mimetype": "text/x-python",
   "name": "python",
   "nbconvert_exporter": "python",
   "pygments_lexer": "ipython3",
   "version": "3.10.8"
  }
 },
 "nbformat": 4,
 "nbformat_minor": 2
}
