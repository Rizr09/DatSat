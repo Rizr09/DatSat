{
 "cells": [
  {
   "cell_type": "code",
   "execution_count": 17,
   "metadata": {},
   "outputs": [],
   "source": [
    "import pandas as pd\n",
    "import re\n",
    "import string"
   ]
  },
  {
   "cell_type": "code",
   "execution_count": 18,
   "metadata": {},
   "outputs": [],
   "source": [
    "def clean_html(text):\n",
    "    # Fungsi Menghapuss HTML & url\n",
    "    # Menghapus entitas html (seperti &amp;) jika ada\n",
    "    text = re.sub(r'\\&\\w*;', '', text)\n",
    "\n",
    "    # Menghapus URL\n",
    "    text = re.sub(r'(https|http)?:\\/\\/(\\w|\\.|\\/|\\?|\\=|\\&|\\%|\\-)*\\b', '', text)\n",
    "\n",
    "    return text\n",
    "\n",
    "def remove_puncts(text):\n",
    "    # Fungsi Menghapus tanda baca\n",
    "    puncts = string.punctuation\n",
    "\n",
    "    # Menghapus tanda baca\n",
    "    text = re.sub('[' + puncts + ']+', ' ', text)\n",
    "    text = re.sub(r'[^\\w\\s]', ' ', text)  # removing repeating punctuations\n",
    "\n",
    "    return text"
   ]
  },
  {
   "cell_type": "code",
   "execution_count": 37,
   "metadata": {},
   "outputs": [],
   "source": [
    "def clean_text(text):\n",
    "    # Fungsi manipulasi teks / memberssihkan teks\n",
    "\n",
    "\n",
    "    # Menghapus spasi di awal kalimat\n",
    "    text = text.lstrip(' ')\n",
    "\n",
    "    # Menghapus whitespace\n",
    "    text = re.sub(r'\\s\\s+', ' ', text)\n",
    "\n",
    "    # menghapus RT @username \n",
    "    text = re.sub(r'@\\S*', '', text)\n",
    "    text = re.sub(r'RT', '', text)\n",
    "\n",
    "    # menghapus unicode\n",
    "    text = re.sub(r'[^\\x00-\\x7F]+', '', text)\n",
    "\n",
    "\n",
    "    text = text.lower()\n",
    "    # Menghapus kata yang terdiri dari <2 huruf\n",
    "    # text = re.sub(r'\\b\\w{1,2}\\b', '', text)\n",
    "\n",
    "    return text"
   ]
  },
  {
   "cell_type": "code",
   "execution_count": 38,
   "metadata": {},
   "outputs": [],
   "source": [
    "data = pd.read_csv('dataset_penyisihan_bdc_2024.csv', sep=';')"
   ]
  },
  {
   "cell_type": "code",
   "execution_count": 39,
   "metadata": {},
   "outputs": [],
   "source": [
    "# clean\n",
    "data['cleaned_text'] = data['text'].apply(clean_text)\n",
    "data['cleaned_text'] = data['cleaned_text'].apply(clean_html)\n",
    "data['cleaned_text'] = data['cleaned_text'].apply(remove_puncts)"
   ]
  },
  {
   "cell_type": "code",
   "execution_count": 41,
   "metadata": {},
   "outputs": [],
   "source": [
    "# save to csv\n",
    "!del cleaned_dataset_penyisihan_bdc_2024.csv\n",
    "data.to_csv('cleaned_dataset_penyisihan_bdc_2024.csv', sep=';', index=False)"
   ]
  },
  {
   "cell_type": "code",
   "execution_count": null,
   "metadata": {},
   "outputs": [],
   "source": []
  }
 ],
 "metadata": {
  "kernelspec": {
   "display_name": "Python 3",
   "language": "python",
   "name": "python3"
  },
  "language_info": {
   "codemirror_mode": {
    "name": "ipython",
    "version": 3
   },
   "file_extension": ".py",
   "mimetype": "text/x-python",
   "name": "python",
   "nbconvert_exporter": "python",
   "pygments_lexer": "ipython3",
   "version": "3.10.8"
  }
 },
 "nbformat": 4,
 "nbformat_minor": 2
}
